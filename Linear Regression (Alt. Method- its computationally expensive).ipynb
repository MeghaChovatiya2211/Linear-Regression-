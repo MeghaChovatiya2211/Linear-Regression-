{
 "cells": [
  {
   "cell_type": "code",
   "execution_count": 1,
   "metadata": {},
   "outputs": [],
   "source": [
    "import numpy as np\n",
    "import matplotlib.pyplot as plt\n",
    "import matplotlib.animation\n",
    "from statistics import mean\n",
    "from matplotlib import style\n",
    "style.use('ggplot')\n",
    "import pandas as pd\n",
    "%matplotlib inline"
   ]
  },
  {
   "cell_type": "code",
   "execution_count": 2,
   "metadata": {},
   "outputs": [],
   "source": [
    "df = pd.read_csv('Bike Sharing hour.csv')\n",
    "list(df)\n",
    "df.drop(['dteday'],1,inplace = True)\n",
    "df.drop(['instant'],1,inplace = True)\n",
    "full_data = df.astype(float).values.tolist()\n"
   ]
  },
  {
   "cell_type": "code",
   "execution_count": 3,
   "metadata": {},
   "outputs": [],
   "source": [
    "header = list(df)"
   ]
  },
  {
   "cell_type": "code",
   "execution_count": 4,
   "metadata": {},
   "outputs": [],
   "source": [
    "xs = np.array(full_data)[:,:-1]\n",
    "ys = np.array(full_data)[:,-1]"
   ]
  },
  {
   "cell_type": "code",
   "execution_count": 5,
   "metadata": {},
   "outputs": [
    {
     "data": {
      "text/plain": [
       "array([ 3.,  8.,  5., ...,  7., 13., 12.])"
      ]
     },
     "execution_count": 5,
     "metadata": {},
     "output_type": "execute_result"
    }
   ],
   "source": [
    "x = xs[:,-2]\n",
    "x"
   ]
  },
  {
   "cell_type": "code",
   "execution_count": 6,
   "metadata": {},
   "outputs": [
    {
     "data": {
      "text/plain": [
       "<matplotlib.collections.PathCollection at 0x1a9b3f675f8>"
      ]
     },
     "execution_count": 6,
     "metadata": {},
     "output_type": "execute_result"
    },
    {
     "data": {
      "image/png": "[encoded data removed]",
      "text/plain": [
       "<Figure size 432x288 with 1 Axes>"
      ]
     },
     "metadata": {},
     "output_type": "display_data"
    }
   ],
   "source": [
    "plt.scatter(x,ys)"
   ]
  },
  {
   "cell_type": "code",
   "execution_count": 7,
   "metadata": {},
   "outputs": [],
   "source": [
    "def origin_shift(x,y):\n",
    "    return x - np.mean(x) , y-np.mean(y)"
   ]
  },
  {
   "cell_type": "code",
   "execution_count": 8,
   "metadata": {},
   "outputs": [],
   "source": [
    "def pred_y(m,x):\n",
    "    return m*x"
   ]
  },
  {
   "cell_type": "code",
   "execution_count": 9,
   "metadata": {},
   "outputs": [],
   "source": [
    "def calc_SSE(y,pred_y):\n",
    "    return np.linalg.norm(y-pred_y)"
   ]
  },
  {
   "cell_type": "code",
   "execution_count": 10,
   "metadata": {},
   "outputs": [],
   "source": [
    "X,Y = origin_shift(x,ys)"
   ]
  },
  {
   "cell_type": "code",
   "execution_count": 11,
   "metadata": {},
   "outputs": [],
   "source": [
    "m = 0\n",
    "y_hat = pred_y(m,X)"
   ]
  },
  {
   "cell_type": "code",
   "execution_count": 12,
   "metadata": {},
   "outputs": [
    {
     "data": {
      "text/plain": [
       "23911.536777687823"
      ]
     },
     "execution_count": 12,
     "metadata": {},
     "output_type": "execute_result"
    }
   ],
   "source": [
    "y_hat\n",
    "calc_SSE(Y,y_hat)"
   ]
  },
  {
   "cell_type": "code",
   "execution_count": 13,
   "metadata": {},
   "outputs": [],
   "source": [
    "alpha = 0.1\n",
    "m = 0\n",
    "m_list = []\n",
    "prev_SSE = 99999999\n",
    "curr_SSE = 0\n",
    "i = 0\n",
    "def reg_line(m,X,Y,m_list,prev_SSE,curr_SSE,alpha):\n",
    "    if(alpha < 0.00001):\n",
    "        return m , m_list\n",
    "    y_hat = pred_y(m,X)\n",
    "    m_list.append(m)\n",
    "    curr_SSE = calc_SSE(Y,y_hat)\n",
    "    if(curr_SSE <= prev_SSE):\n",
    "        prev_SSE = curr_SSE\n",
    "        m+=alpha\n",
    "        return reg_line(m,X,Y,m_list,prev_SSE,curr_SSE,alpha)\n",
    "    else:\n",
    "        m = m_list[-10]\n",
    "        for i in range(10):\n",
    "            m_list.remove(m_list[-1])\n",
    "        prev_SSE = 999999\n",
    "        alpha*=0.1\n",
    "        m+=alpha\n",
    "        return reg_line(m,X,Y,m_list,prev_SSE,curr_SSE,alpha)\n",
    "\n",
    "m,m_list = reg_line(m,X,Y,m_list,prev_SSE,curr_SSE,alpha)"
   ]
  },
  {
   "cell_type": "code",
   "execution_count": 14,
   "metadata": {},
   "outputs": [
    {
     "data": {
      "text/plain": [
       "189.46308763450142"
      ]
     },
     "execution_count": 14,
     "metadata": {},
     "output_type": "execute_result"
    }
   ],
   "source": [
    "m\n",
    "c = np.mean(ys)\n",
    "c"
   ]
  },
  {
   "cell_type": "code",
   "execution_count": 15,
   "metadata": {},
   "outputs": [
    {
     "data": {
      "text/plain": [
       "[0,\n",
       " 0.1,\n",
       " 0.2,\n",
       " 0.30000000000000004,\n",
       " 0.4,\n",
       " 0.5,\n",
       " 0.6,\n",
       " 0.7,\n",
       " 0.7999999999999999,\n",
       " 0.8999999999999999,\n",
       " 0.9999999999999999,\n",
       " 1.0999999999999999,\n",
       " 1.2,\n",
       " 1.3,\n",
       " 1.4000000000000001,\n",
       " 1.5000000000000002,\n",
       " 1.6000000000000003,\n",
       " 1.7000000000000004,\n",
       " 1.8100000000000005,\n",
       " 1.8200000000000005,\n",
       " 1.8300000000000005,\n",
       " 1.8400000000000005,\n",
       " 1.8500000000000005,\n",
       " 1.8600000000000005,\n",
       " 1.8700000000000006,\n",
       " 1.8800000000000006,\n",
       " 1.8900000000000006,\n",
       " 1.9000000000000006,\n",
       " 1.9100000000000006,\n",
       " 1.9200000000000006,\n",
       " 1.9300000000000006,\n",
       " 1.9400000000000006,\n",
       " 1.9500000000000006,\n",
       " 1.9600000000000006,\n",
       " 1.9700000000000006,\n",
       " 1.9800000000000006,\n",
       " 1.9900000000000007,\n",
       " 2.0000000000000004,\n",
       " 2.0100000000000002,\n",
       " 2.02,\n",
       " 2.03,\n",
       " 2.0399999999999996,\n",
       " 2.0499999999999994,\n",
       " 2.059999999999999,\n",
       " 2.069999999999999,\n",
       " 2.0799999999999987,\n",
       " 2.0899999999999985,\n",
       " 2.0999999999999983,\n",
       " 2.109999999999998,\n",
       " 2.119999999999998,\n",
       " 2.1299999999999977,\n",
       " 2.1399999999999975,\n",
       " 2.1499999999999972,\n",
       " 2.159999999999997,\n",
       " 2.169999999999997,\n",
       " 2.1799999999999966,\n",
       " 2.1899999999999964,\n",
       " 2.199999999999996,\n",
       " 2.209999999999996,\n",
       " 2.2199999999999958,\n",
       " 2.2299999999999955,\n",
       " 2.2399999999999953,\n",
       " 2.249999999999995,\n",
       " 2.259999999999995,\n",
       " 2.2699999999999947,\n",
       " 2.2799999999999945,\n",
       " 2.2899999999999943,\n",
       " 2.299999999999994,\n",
       " 2.309999999999994,\n",
       " 2.3199999999999936,\n",
       " 2.3299999999999934,\n",
       " 2.339999999999993,\n",
       " 2.349999999999993,\n",
       " 2.3599999999999928,\n",
       " 2.3699999999999926,\n",
       " 2.3799999999999923,\n",
       " 2.389999999999992,\n",
       " 2.399999999999992,\n",
       " 2.4099999999999917,\n",
       " 2.4199999999999915,\n",
       " 2.4299999999999913,\n",
       " 2.439999999999991,\n",
       " 2.449999999999991,\n",
       " 2.4599999999999906,\n",
       " 2.4699999999999904,\n",
       " 2.48099999999999,\n",
       " 2.48199999999999,\n",
       " 2.48299999999999,\n",
       " 2.4839999999999898,\n",
       " 2.4849999999999897,\n",
       " 2.4859999999999896,\n",
       " 2.4869999999999894,\n",
       " 2.4879999999999893,\n",
       " 2.488999999999989,\n",
       " 2.489999999999989,\n",
       " 2.490999999999989,\n",
       " 2.491999999999989,\n",
       " 2.492999999999989,\n",
       " 2.4939999999999887,\n",
       " 2.4949999999999886,\n",
       " 2.4959999999999885,\n",
       " 2.4969999999999883,\n",
       " 2.4979999999999882,\n",
       " 2.498999999999988,\n",
       " 2.499999999999988,\n",
       " 2.500999999999988,\n",
       " 2.501999999999988,\n",
       " 2.5029999999999877,\n",
       " 2.5039999999999876,\n",
       " 2.5049999999999875,\n",
       " 2.5059999999999873,\n",
       " 2.5069999999999872,\n",
       " 2.507999999999987,\n",
       " 2.508999999999987,\n",
       " 2.509999999999987,\n",
       " 2.510999999999987,\n",
       " 2.5119999999999867,\n",
       " 2.5129999999999866,\n",
       " 2.5139999999999865,\n",
       " 2.5149999999999864,\n",
       " 2.5159999999999862,\n",
       " 2.516999999999986,\n",
       " 2.517999999999986,\n",
       " 2.518999999999986,\n",
       " 2.519999999999986,\n",
       " 2.5209999999999857,\n",
       " 2.5219999999999856,\n",
       " 2.5229999999999855,\n",
       " 2.5239999999999854,\n",
       " 2.5249999999999853,\n",
       " 2.525999999999985,\n",
       " 2.526999999999985,\n",
       " 2.527999999999985,\n",
       " 2.528999999999985,\n",
       " 2.5299999999999847,\n",
       " 2.5309999999999846,\n",
       " 2.5319999999999845,\n",
       " 2.5329999999999844,\n",
       " 2.5339999999999843,\n",
       " 2.534999999999984,\n",
       " 2.535999999999984,\n",
       " 2.536999999999984,\n",
       " 2.537999999999984,\n",
       " 2.5389999999999837,\n",
       " 2.5399999999999836,\n",
       " 2.5409999999999835,\n",
       " 2.5419999999999834,\n",
       " 2.5429999999999833,\n",
       " 2.543999999999983,\n",
       " 2.544999999999983,\n",
       " 2.545999999999983,\n",
       " 2.547099999999983,\n",
       " 2.5471999999999833,\n",
       " 2.5472999999999835,\n",
       " 2.5473999999999837,\n",
       " 2.547499999999984,\n",
       " 2.547599999999984,\n",
       " 2.5476999999999843,\n",
       " 2.5477999999999845,\n",
       " 2.5478999999999847,\n",
       " 2.547999999999985,\n",
       " 2.548099999999985,\n",
       " 2.5481999999999854,\n",
       " 2.5482999999999856,\n",
       " 2.548399999999986,\n",
       " 2.548499999999986,\n",
       " 2.548599999999986,\n",
       " 2.5486999999999864,\n",
       " 2.5487999999999866,\n",
       " 2.548899999999987,\n",
       " 2.548999999999987,\n",
       " 2.5490999999999873,\n",
       " 2.5491999999999875,\n",
       " 2.5492999999999877,\n",
       " 2.549399999999988,\n",
       " 2.549499999999988,\n",
       " 2.5495999999999883,\n",
       " 2.5496999999999885,\n",
       " 2.5497999999999887,\n",
       " 2.549899999999989,\n",
       " 2.549999999999989,\n",
       " 2.5500999999999894,\n",
       " 2.5501999999999896,\n",
       " 2.55029999999999,\n",
       " 2.55039999999999,\n",
       " 2.55049999999999,\n",
       " 2.5505999999999904,\n",
       " 2.5506999999999906,\n",
       " 2.550799999999991,\n",
       " 2.550899999999991,\n",
       " 2.5509999999999913,\n",
       " 2.5510999999999915,\n",
       " 2.5511999999999917,\n",
       " 2.551299999999992,\n",
       " 2.551399999999992,\n",
       " 2.5514999999999923,\n",
       " 2.5515999999999925,\n",
       " 2.5516999999999928,\n",
       " 2.551799999999993,\n",
       " 2.551899999999993,\n",
       " 2.5519999999999934,\n",
       " 2.5520999999999936,\n",
       " 2.552199999999994,\n",
       " 2.552299999999994,\n",
       " 2.5523999999999942,\n",
       " 2.5524999999999944,\n",
       " 2.5525999999999947,\n",
       " 2.552699999999995,\n",
       " 2.552799999999995,\n",
       " 2.5528999999999953,\n",
       " 2.5529999999999955,\n",
       " 2.5530999999999957,\n",
       " 2.553199999999996,\n",
       " 2.553299999999996,\n",
       " 2.5533999999999963,\n",
       " 2.5534999999999966,\n",
       " 2.5535999999999968,\n",
       " 2.553699999999997,\n",
       " 2.553799999999997,\n",
       " 2.5538999999999974,\n",
       " 2.5539999999999976,\n",
       " 2.554099999999998,\n",
       " 2.554199999999998,\n",
       " 2.5542999999999982,\n",
       " 2.5544099999999985,\n",
       " 2.5544199999999986,\n",
       " 2.5544299999999986,\n",
       " 2.5544399999999987,\n",
       " 2.5544499999999988,\n",
       " 2.554459999999999,\n",
       " 2.554469999999999,\n",
       " 2.554479999999999,\n",
       " 2.554489999999999,\n",
       " 2.554499999999999,\n",
       " 2.554509999999999,\n",
       " 2.5545199999999992,\n",
       " 2.5545299999999993,\n",
       " 2.5545399999999994,\n",
       " 2.5545499999999994,\n",
       " 2.5545599999999995,\n",
       " 2.5545699999999996,\n",
       " 2.5545799999999996,\n",
       " 2.5545899999999997,\n",
       " 2.5545999999999998,\n",
       " 2.55461,\n",
       " 2.55462,\n",
       " 2.55463,\n",
       " 2.55464,\n",
       " 2.55465,\n",
       " 2.55466,\n",
       " 2.55467,\n",
       " 2.5546800000000003,\n",
       " 2.5546900000000003,\n",
       " 2.5547000000000004,\n",
       " 2.5547100000000005,\n",
       " 2.5547200000000005,\n",
       " 2.5547300000000006,\n",
       " 2.5547400000000007,\n",
       " 2.5547500000000007,\n",
       " 2.554760000000001,\n",
       " 2.554770000000001,\n",
       " 2.554780000000001,\n",
       " 2.554790000000001,\n",
       " 2.554800000000001,\n",
       " 2.554810000000001,\n",
       " 2.554820000000001,\n",
       " 2.5548300000000013,\n",
       " 2.5548400000000013,\n",
       " 2.5548500000000014,\n",
       " 2.5548600000000015,\n",
       " 2.5548700000000015,\n",
       " 2.5548800000000016,\n",
       " 2.5548900000000017,\n",
       " 2.5549000000000017,\n",
       " 2.554910000000002,\n",
       " 2.554920000000002,\n",
       " 2.554930000000002,\n",
       " 2.554940000000002,\n",
       " 2.554950000000002,\n",
       " 2.554960000000002,\n",
       " 2.554970000000002,\n",
       " 2.5549800000000022,\n",
       " 2.5549900000000023,\n",
       " 2.5550000000000024,\n",
       " 2.5550100000000024,\n",
       " 2.5550200000000025,\n",
       " 2.5550300000000026,\n",
       " 2.5550400000000026,\n",
       " 2.5550500000000027,\n",
       " 2.5550600000000028,\n",
       " 2.555070000000003,\n",
       " 2.555080000000003,\n",
       " 2.555090000000003,\n",
       " 2.555100000000003,\n",
       " 2.555110000000003,\n",
       " 2.555120000000003,\n",
       " 2.5551300000000032]"
      ]
     },
     "execution_count": 15,
     "metadata": {},
     "output_type": "execute_result"
    }
   ],
   "source": [
    "m_list"
   ]
  },
  {
   "cell_type": "code",
   "execution_count": 16,
   "metadata": {
    "scrolled": false
   },
   "outputs": [
    {
     "data": {
      "text/plain": [
       "[<matplotlib.lines.Line2D at 0x1a9b3fa8cf8>]"
      ]
     },
     "execution_count": 16,
     "metadata": {},
     "output_type": "execute_result"
    },
    {
     "data": {
      "image/png": "[encoded data removed]",
      "text/plain": [
       "<Figure size 432x288 with 1 Axes>"
      ]
     },
     "metadata": {},
     "output_type": "display_data"
    }
   ],
   "source": [
    "plt.scatter(x,ys)\n",
    "plt.plot(x,m*x+c , color = 'g')"
   ]
  },
  {
   "cell_type": "code",
   "execution_count": 17,
   "metadata": {},
   "outputs": [],
   "source": [
    "\n",
    "def reg_line_anim(x,ys,m_list,c):\n",
    "    fig = plt.figure()\n",
    "    ax = fig.gca()\n",
    "    t = []\n",
    "    t.append(x)\n",
    "    t.append(c)\n",
    "    t = tuple(t)\n",
    "    ax.scatter(x,ys)\n",
    "    line, = ax.plot(x,(m_list[0]*x)+c,color = 'g')\n",
    "    def update(m,x,c):\n",
    "        line.set_data(x,m*x+c)\n",
    "        return line\n",
    "\n",
    "    fig.canvas.draw()\n",
    "    ani = matplotlib.animation.FuncAnimation(fig, update, frames=m_list, blit=False, interval=10, fargs = t )\n",
    "    plt.show()"
   ]
  },
  {
   "cell_type": "code",
   "execution_count": 18,
   "metadata": {},
   "outputs": [
    {
     "data": {
      "image/png": "[encoded data removed]",
      "text/plain": [
       "<Figure size 432x288 with 1 Axes>"
      ]
     },
     "metadata": {},
     "output_type": "display_data"
    }
   ],
   "source": [
    "reg_line_anim(x,ys,m_list,c)"
   ]
  },
  {
   "cell_type": "code",
   "execution_count": null,
   "metadata": {},
   "outputs": [],
   "source": []
  }
 ],
 "metadata": {
  "kernelspec": {
   "display_name": "Python 3",
   "language": "python",
   "name": "python3"
  },
  "language_info": {
   "codemirror_mode": {
    "name": "ipython",
    "version": 3
   },
   "file_extension": ".py",
   "mimetype": "text/x-python",
   "name": "python",
   "nbconvert_exporter": "python",
   "pygments_lexer": "ipython3",
   "version": "3.8.5"
  }
 },
 "nbformat": 4,
 "nbformat_minor": 2
}
